{
 "cells": [
  {
   "cell_type": "code",
   "execution_count": 1,
   "id": "cf2c110e-c9d4-449f-96ff-ae300f428bee",
   "metadata": {},
   "outputs": [],
   "source": [
    "import matplotlib.pyplot as plt\n",
    "import numpy as np\n",
    "import pandas as pd\n",
    "from scipy import stats\n",
    "from sklearn.metrics import (accuracy_score, classification_report,\n",
    "                             confusion_matrix, roc_auc_score)\n",
    "from sklearn.utils import resample\n",
    "\n",
    "%matplotlib inline\n",
    "\n",
    "import logging\n",
    "\n",
    "import torch\n",
    "import torchmetrics\n",
    "import torch.nn as nn\n",
    "import torch.optim as optim\n",
    "from pytorch_lightning.loggers import TensorBoardLogger\n",
    "from sklearn import preprocessing\n",
    "from sklearn.model_selection import KFold\n",
    "from sklearn.utils import resample\n",
    "from torch.utils.data import DataLoader, TensorDataset\n",
    "\n",
    "import random"
   ]
  },
  {
   "cell_type": "code",
   "execution_count": 2,
   "id": "ff26667c-8eed-451c-805e-955526c30dbe",
   "metadata": {},
   "outputs": [],
   "source": [
    "torch.manual_seed(42)\n",
    "random.seed(42)"
   ]
  },
  {
   "cell_type": "code",
   "execution_count": 10,
   "id": "377fff3f-3ec8-443e-873c-83e13b2cbe57",
   "metadata": {},
   "outputs": [
    {
     "name": "stderr",
     "output_type": "stream",
     "text": [
      "/tmp/ipykernel_21079/379243730.py:5: SettingWithCopyWarning: \n",
      "A value is trying to be set on a copy of a slice from a DataFrame.\n",
      "Try using .loc[row_indexer,col_indexer] = value instead\n",
      "\n",
      "See the caveats in the documentation: https://pandas.pydata.org/pandas-docs/stable/user_guide/indexing.html#returning-a-view-versus-a-copy\n",
      "  filtred_df[0] = filtred_df[0].apply(lambda x: x.split(','))\n",
      "/tmp/ipykernel_21079/379243730.py:10: SettingWithCopyWarning: \n",
      "A value is trying to be set on a copy of a slice from a DataFrame.\n",
      "Try using .loc[row_indexer,col_indexer] = value instead\n",
      "\n",
      "See the caveats in the documentation: https://pandas.pydata.org/pandas-docs/stable/user_guide/indexing.html#returning-a-view-versus-a-copy\n",
      "  filtred_df[f'{el}'] = filtred_df[0].apply(lambda x: x[i])\n",
      "/tmp/ipykernel_21079/379243730.py:10: SettingWithCopyWarning: \n",
      "A value is trying to be set on a copy of a slice from a DataFrame.\n",
      "Try using .loc[row_indexer,col_indexer] = value instead\n",
      "\n",
      "See the caveats in the documentation: https://pandas.pydata.org/pandas-docs/stable/user_guide/indexing.html#returning-a-view-versus-a-copy\n",
      "  filtred_df[f'{el}'] = filtred_df[0].apply(lambda x: x[i])\n",
      "/tmp/ipykernel_21079/379243730.py:10: SettingWithCopyWarning: \n",
      "A value is trying to be set on a copy of a slice from a DataFrame.\n",
      "Try using .loc[row_indexer,col_indexer] = value instead\n",
      "\n",
      "See the caveats in the documentation: https://pandas.pydata.org/pandas-docs/stable/user_guide/indexing.html#returning-a-view-versus-a-copy\n",
      "  filtred_df[f'{el}'] = filtred_df[0].apply(lambda x: x[i])\n",
      "/tmp/ipykernel_21079/379243730.py:10: SettingWithCopyWarning: \n",
      "A value is trying to be set on a copy of a slice from a DataFrame.\n",
      "Try using .loc[row_indexer,col_indexer] = value instead\n",
      "\n",
      "See the caveats in the documentation: https://pandas.pydata.org/pandas-docs/stable/user_guide/indexing.html#returning-a-view-versus-a-copy\n",
      "  filtred_df[f'{el}'] = filtred_df[0].apply(lambda x: x[i])\n",
      "/tmp/ipykernel_21079/379243730.py:10: SettingWithCopyWarning: \n",
      "A value is trying to be set on a copy of a slice from a DataFrame.\n",
      "Try using .loc[row_indexer,col_indexer] = value instead\n",
      "\n",
      "See the caveats in the documentation: https://pandas.pydata.org/pandas-docs/stable/user_guide/indexing.html#returning-a-view-versus-a-copy\n",
      "  filtred_df[f'{el}'] = filtred_df[0].apply(lambda x: x[i])\n",
      "/tmp/ipykernel_21079/379243730.py:12: SettingWithCopyWarning: \n",
      "A value is trying to be set on a copy of a slice from a DataFrame.\n",
      "Try using .loc[row_indexer,col_indexer] = value instead\n",
      "\n",
      "See the caveats in the documentation: https://pandas.pydata.org/pandas-docs/stable/user_guide/indexing.html#returning-a-view-versus-a-copy\n",
      "  filtred_df[f'{el}'] = filtred_df[0].apply(lambda x: x[i][:-1])\n"
     ]
    }
   ],
   "source": [
    "df = pd.read_csv(\"WISDM_ar_v1.1_raw.txt\", sep = ' ', header = None)\n",
    "\n",
    "df['lenght'] = df[0].apply(lambda x: x.split(',')).apply(lambda x: len(x))\n",
    "filtred_df = df[~df['lenght'].isin([7, 11])]\n",
    "filtred_df[0] = filtred_df[0].apply(lambda x: x.split(','))\n",
    "\n",
    "columns = ['user','activity','timestamp', 'x-axis', 'y-axis', 'z-axis']\n",
    "for i, el in enumerate(columns):\n",
    "  if i != len(columns)-1:\n",
    "    filtred_df[f'{el}'] = filtred_df[0].apply(lambda x: x[i])\n",
    "  else:\n",
    "    filtred_df[f'{el}'] = filtred_df[0].apply(lambda x: x[i][:-1])\n",
    "\n",
    "filtred_df = filtred_df.drop(columns = [0, 'lenght', 'timestamp'])"
   ]
  },
  {
   "cell_type": "code",
   "execution_count": 11,
   "id": "979c07fb-ddc8-4dba-9523-5ba478cb5506",
   "metadata": {},
   "outputs": [],
   "source": [
    "def transform_activity(x):\n",
    "  if x in ['Jogging', 'Upstairs', 'Downstairs']:\n",
    "    return 1\n",
    "  elif x in ['Walking', 'Sitting', 'Standing']:\n",
    "    return 0\n",
    "filtred_df.activity = filtred_df.activity.apply(lambda x: transform_activity(x))"
   ]
  },
  {
   "cell_type": "code",
   "execution_count": 12,
   "id": "ebc5943c-5047-4c31-99d9-b1cc364e1695",
   "metadata": {},
   "outputs": [],
   "source": [
    "le = preprocessing.LabelEncoder()\n",
    "filtred_df['activity'] = le.fit_transform(filtred_df['activity'])\n",
    "\n",
    "def transform(x):\n",
    "  try:\n",
    "    x = float(x)\n",
    "  except ValueError:\n",
    "    x = np.nan\n",
    "  return x\n",
    "\n",
    "for el in filtred_df.columns:\n",
    "  filtred_df[el] = filtred_df[el].apply(lambda x: transform(x))"
   ]
  },
  {
   "cell_type": "code",
   "execution_count": 13,
   "id": "f2bbb6ea-7e42-45f9-a49e-3d128e41e342",
   "metadata": {},
   "outputs": [],
   "source": [
    "unique_users = list(filtred_df[\"user\"].unique())\n",
    "random.shuffle(unique_users)"
   ]
  },
  {
   "cell_type": "code",
   "execution_count": 14,
   "id": "250f43a5-b033-428a-b0ff-ed4a66c43bcd",
   "metadata": {},
   "outputs": [],
   "source": [
    "for col in ['x-axis', 'y-axis', 'z-axis']:\n",
    "  mean_value = filtred_df[col].mean()\n",
    "  sigma = filtred_df[col].std()\n",
    "  filtred_df[col] = filtred_df[col].apply(lambda x: (x-mean_value)/sigma)"
   ]
  },
  {
   "cell_type": "code",
   "execution_count": 15,
   "id": "504ae8a3-1d24-4134-89db-44e00835ec6e",
   "metadata": {},
   "outputs": [
    {
     "name": "stdout",
     "output_type": "stream",
     "text": [
      "14976 14976\n"
     ]
    }
   ],
   "source": [
    "def group_by_user(df, user):\n",
    "  return df[df['user'] == user].reset_index(drop = True)\n",
    "\n",
    "def create_window(df, overlay, window_size, train_x, train_y):\n",
    "  for i in range(0, df.shape[0], overlay):\n",
    "    df_sub = df.iloc[i:i+window_size]\n",
    "\n",
    "    if df_sub.shape[0] == window_size:\n",
    "      train_x.append(df_sub[['x-axis', 'y-axis', 'z-axis']].to_numpy())\n",
    "      train_y.append(df_sub['activity'].mode().iloc[0])\n",
    "\n",
    "  return train_x, train_y\n",
    "\n",
    "\n",
    "train_x = []\n",
    "train_y = []\n",
    "\n",
    "window_size = 100\n",
    "overlay = 50\n",
    "\n",
    "users = unique_users[:26]\n",
    "for user in users:\n",
    "  df_user = group_by_user(filtred_df, user)\n",
    "  create_window(df_user, overlay, window_size, train_x, train_y)\n",
    "\n",
    "print (len(train_x), len(train_y))"
   ]
  },
  {
   "cell_type": "code",
   "execution_count": 16,
   "id": "531abf5f-ca02-409b-bb8f-573124b13e11",
   "metadata": {},
   "outputs": [
    {
     "name": "stdout",
     "output_type": "stream",
     "text": [
      "2807 2807\n"
     ]
    }
   ],
   "source": [
    "test_x = []\n",
    "test_y = []\n",
    "\n",
    "users = unique_users[26:30]\n",
    "for user in users:\n",
    "  df_user = group_by_user(filtred_df, user)\n",
    "  create_window(df_user, overlay, window_size, test_x, test_y)\n",
    "\n",
    "print (len(test_x), len(test_y))"
   ]
  },
  {
   "cell_type": "code",
   "execution_count": 17,
   "id": "209be2a0-8efd-4b28-99d7-2c7380d5d5b9",
   "metadata": {},
   "outputs": [
    {
     "name": "stdout",
     "output_type": "stream",
     "text": [
      "3894 3894\n"
     ]
    }
   ],
   "source": [
    "control_x = []\n",
    "control_y = []\n",
    "\n",
    "users = unique_users[30:]\n",
    "for user in users:\n",
    "  df_user = group_by_user(filtred_df, user)\n",
    "  create_window(df_user, overlay, window_size, control_x, control_y)\n",
    "\n",
    "print (len(control_x), len(control_y))"
   ]
  },
  {
   "cell_type": "code",
   "execution_count": 22,
   "id": "ce7b6b51-a6d6-44fe-89fc-aa73b292fada",
   "metadata": {},
   "outputs": [],
   "source": [
    "train_dataset = TensorDataset(torch.tensor(np.array(train_x).transpose(0, 2, 1), dtype=torch.float32), torch.tensor(np.array(train_y).reshape(-1, 1), dtype=torch.float32))\n",
    "train_loader = DataLoader(train_dataset, batch_size=256, shuffle=True, drop_last = True)\n",
    "\n",
    "test_dataset = TensorDataset(torch.tensor(np.array(test_x).transpose(0, 2, 1), dtype=torch.float32), torch.tensor(np.array(test_y).reshape(-1, 1), dtype=torch.float32))\n",
    "test_loader = DataLoader(test_dataset, batch_size=256, shuffle=True, drop_last = True)\n",
    "\n",
    "control_dataset = TensorDataset(torch.tensor(np.array(control_x).transpose(0, 2, 1), dtype=torch.float32), torch.tensor(np.array(control_y).reshape(-1, 1), dtype=torch.float32))\n",
    "control_loader = DataLoader(control_dataset, batch_size=256, shuffle=False, drop_last = True)"
   ]
  },
  {
   "cell_type": "code",
   "execution_count": 23,
   "id": "8f38622e-80a5-41a1-9119-5a7153ee7dae",
   "metadata": {},
   "outputs": [],
   "source": [
    "class ConvLSTMModel(nn.Module):\n",
    "    def __init__(self):\n",
    "        super(ConvLSTMModel, self).__init__()\n",
    "        self.conv1 = nn.Conv1d(in_channels=3, out_channels=128, kernel_size=3, padding=1)\n",
    "        self.batchnorm1 = nn.BatchNorm1d(128)\n",
    "        self.relu1 = nn.ReLU()\n",
    "        self.conv2 = nn.Conv1d(in_channels=128, out_channels=64, kernel_size=3, padding=1)\n",
    "        self.batchnorm2 = nn.BatchNorm1d(64)\n",
    "        self.relu2 = nn.ReLU()\n",
    "        self.maxpool = nn.MaxPool1d(kernel_size=2)\n",
    "        self.lstm = nn.LSTM(input_size=50, hidden_size=64, num_layers = 2, batch_first=True, dropout = 0.3)\n",
    "        self.dense1 = nn.Linear(64, 128)\n",
    "        self.relu3 = nn.ReLU()\n",
    "        self.dense2 = nn.Linear(128, 2)\n",
    "        self.softmax = nn.Softmax(dim=1)\n",
    "\n",
    "    def forward(self, x):\n",
    "        x = self.conv1(x)\n",
    "        x = self.batchnorm1(x)\n",
    "        x = self.relu1(x)\n",
    "        x = self.conv2(x)\n",
    "        x = self.batchnorm2(x)\n",
    "        x = self.relu2(x)\n",
    "        x = self.maxpool(x)\n",
    "        x, _ = self.lstm(x)\n",
    "        x = x[:, -1, :]\n",
    "        x = self.dense1(x)\n",
    "        x = self.relu3(x)\n",
    "        x = self.dense2(x)\n",
    "        return x"
   ]
  },
  {
   "cell_type": "code",
   "execution_count": 24,
   "id": "bda5f655-be92-4a54-ac3b-9f05c1f08255",
   "metadata": {},
   "outputs": [],
   "source": [
    "device = torch.device(\"cuda:0\" if torch.cuda.is_available() else \"cpu\")\n",
    "model = ConvLSTMModel().to(device)\n",
    "optimizer = torch.optim.Adam(model.parameters(), lr=1e-5)\n",
    "criterion = nn.CrossEntropyLoss()"
   ]
  },
  {
   "cell_type": "code",
   "execution_count": 25,
   "id": "ba780ea0-8318-4497-897e-7365688114e9",
   "metadata": {},
   "outputs": [],
   "source": [
    "def calculate_accuracy(y_true, y_pred):\n",
    "    y_pred_labels = np.argmax(y_pred, axis=1)\n",
    "    accuracy = accuracy_score(y_true, y_pred_labels)\n",
    "    return accuracy"
   ]
  },
  {
   "cell_type": "code",
   "execution_count": 26,
   "id": "06ed3200-1063-477b-b31d-4f6b7efe318f",
   "metadata": {},
   "outputs": [
    {
     "name": "stdout",
     "output_type": "stream",
     "text": [
      "epochs 1/50\n",
      "train_loss 0.6939740180969238, train_accuracy 0.4873383620689655\n",
      "validation_loss 0.5538366436958313, validation_accuracy 0.48984375\n",
      "epochs 2/50\n",
      "train_loss 0.6920859813690186, train_accuracy 0.5416217672413793\n",
      "validation_loss 0.5507985353469849, validation_accuracy 0.71875\n",
      "epochs 3/50\n",
      "train_loss 0.6891774535179138, train_accuracy 0.6539601293103449\n",
      "validation_loss 0.5467080473899841, validation_accuracy 0.74296875\n",
      "epochs 4/50\n",
      "train_loss 0.6848326325416565, train_accuracy 0.6158405172413793\n",
      "validation_loss 0.540264904499054, validation_accuracy 0.703515625\n",
      "epochs 5/50\n",
      "train_loss 0.6780576109886169, train_accuracy 0.5844558189655172\n",
      "validation_loss 0.5308171510696411, validation_accuracy 0.70390625\n",
      "epochs 6/50\n",
      "train_loss 0.6689848303794861, train_accuracy 0.5833108836206896\n",
      "validation_loss 0.5832023024559021, validation_accuracy 0.709765625\n",
      "epochs 7/50\n",
      "train_loss 0.6574974060058594, train_accuracy 0.5904498922413793\n",
      "validation_loss 0.5037485361099243, validation_accuracy 0.709375\n",
      "epochs 8/50\n",
      "train_loss 0.6421630382537842, train_accuracy 0.6082300646551724\n",
      "validation_loss 0.48279309272766113, validation_accuracy 0.72265625\n",
      "epochs 9/50\n",
      "train_loss 0.624193012714386, train_accuracy 0.6371228448275862\n",
      "validation_loss 0.4658125936985016, validation_accuracy 0.7546875\n",
      "epochs 10/50\n",
      "train_loss 0.6037623882293701, train_accuracy 0.6693157327586207\n",
      "validation_loss 0.4403057098388672, validation_accuracy 0.775\n",
      "epochs 11/50\n",
      "train_loss 0.5837302803993225, train_accuracy 0.6983432112068966\n",
      "validation_loss 0.42032989859580994, validation_accuracy 0.796875\n",
      "epochs 12/50\n",
      "train_loss 0.563840389251709, train_accuracy 0.7279094827586207\n",
      "validation_loss 0.402726948261261, validation_accuracy 0.823828125\n",
      "epochs 13/50\n",
      "train_loss 0.5433276891708374, train_accuracy 0.7497306034482759\n",
      "validation_loss 0.44443193078041077, validation_accuracy 0.82890625\n",
      "epochs 14/50\n",
      "train_loss 0.5215387344360352, train_accuracy 0.7641433189655172\n",
      "validation_loss 0.42633405327796936, validation_accuracy 0.842578125\n",
      "epochs 15/50\n",
      "train_loss 0.4987710118293762, train_accuracy 0.775323275862069\n",
      "validation_loss 0.4168064594268799, validation_accuracy 0.834375\n",
      "epochs 16/50\n",
      "train_loss 0.4750922620296478, train_accuracy 0.7904768318965517\n",
      "validation_loss 0.40328511595726013, validation_accuracy 0.8171875\n",
      "epochs 17/50\n",
      "train_loss 0.4515267312526703, train_accuracy 0.8023302801724138\n",
      "validation_loss 0.3862837851047516, validation_accuracy 0.82578125\n",
      "epochs 18/50\n",
      "train_loss 0.42685404419898987, train_accuracy 0.8166756465517241\n",
      "validation_loss 0.37823179364204407, validation_accuracy 0.830859375\n",
      "epochs 19/50\n",
      "train_loss 0.4030962884426117, train_accuracy 0.8248248922413793\n",
      "validation_loss 0.3743196427822113, validation_accuracy 0.812890625\n",
      "epochs 20/50\n",
      "train_loss 0.3855744004249573, train_accuracy 0.8316271551724138\n",
      "validation_loss 0.38083550333976746, validation_accuracy 0.778515625\n",
      "epochs 21/50\n",
      "train_loss 0.3722653090953827, train_accuracy 0.8369477370689655\n",
      "validation_loss 0.31336647272109985, validation_accuracy 0.84296875\n",
      "epochs 22/50\n",
      "train_loss 0.3589547872543335, train_accuracy 0.8447602370689655\n",
      "validation_loss 0.30201977491378784, validation_accuracy 0.846484375\n",
      "epochs 23/50\n",
      "train_loss 0.3505913317203522, train_accuracy 0.8492052801724138\n",
      "validation_loss 0.3348679542541504, validation_accuracy 0.853125\n",
      "epochs 24/50\n",
      "train_loss 0.34459805488586426, train_accuracy 0.8506196120689655\n",
      "validation_loss 0.28746217489242554, validation_accuracy 0.86484375\n",
      "epochs 25/50\n",
      "train_loss 0.3368397057056427, train_accuracy 0.8566136853448276\n",
      "validation_loss 0.27556174993515015, validation_accuracy 0.86875\n",
      "epochs 26/50\n",
      "train_loss 0.33130475878715515, train_accuracy 0.859375\n",
      "validation_loss 0.26020553708076477, validation_accuracy 0.87421875\n",
      "epochs 27/50\n",
      "train_loss 0.3261494040489197, train_accuracy 0.8615975215517241\n",
      "validation_loss 0.26311492919921875, validation_accuracy 0.8828125\n",
      "epochs 28/50\n",
      "train_loss 0.32017335295677185, train_accuracy 0.8653690732758621\n",
      "validation_loss 0.23678545653820038, validation_accuracy 0.89296875\n",
      "epochs 29/50\n",
      "train_loss 0.3157256841659546, train_accuracy 0.867254849137931\n",
      "validation_loss 0.22865143418312073, validation_accuracy 0.891015625\n",
      "epochs 30/50\n",
      "train_loss 0.3115759491920471, train_accuracy 0.8698814655172413\n",
      "validation_loss 0.22302019596099854, validation_accuracy 0.890625\n",
      "epochs 31/50\n",
      "train_loss 0.3065342307090759, train_accuracy 0.8708243534482759\n",
      "validation_loss 0.2021254599094391, validation_accuracy 0.893359375\n",
      "epochs 32/50\n",
      "train_loss 0.3015684187412262, train_accuracy 0.8765490301724138\n",
      "validation_loss 0.22207288444042206, validation_accuracy 0.905078125\n",
      "epochs 33/50\n",
      "train_loss 0.29786181449890137, train_accuracy 0.8759428879310345\n",
      "validation_loss 0.19655373692512512, validation_accuracy 0.91875\n",
      "epochs 34/50\n",
      "train_loss 0.2942536771297455, train_accuracy 0.8796470905172413\n",
      "validation_loss 0.21941909193992615, validation_accuracy 0.9109375\n",
      "epochs 35/50\n",
      "train_loss 0.29010093212127686, train_accuracy 0.880926724137931\n",
      "validation_loss 0.17549444735050201, validation_accuracy 0.926953125\n",
      "epochs 36/50\n",
      "train_loss 0.2864888608455658, train_accuracy 0.8821390086206896\n",
      "validation_loss 0.17761263251304626, validation_accuracy 0.927734375\n",
      "epochs 37/50\n",
      "train_loss 0.2849690616130829, train_accuracy 0.8840247844827587\n",
      "validation_loss 0.1714908629655838, validation_accuracy 0.928125\n",
      "epochs 38/50\n",
      "train_loss 0.2808937728404999, train_accuracy 0.8858432112068966\n",
      "validation_loss 0.18986378610134125, validation_accuracy 0.933203125\n",
      "epochs 39/50\n",
      "train_loss 0.2781067490577698, train_accuracy 0.8881330818965517\n",
      "validation_loss 0.16826608777046204, validation_accuracy 0.931640625\n",
      "epochs 40/50\n",
      "train_loss 0.2770158648490906, train_accuracy 0.8879310344827587\n",
      "validation_loss 0.17116059362888336, validation_accuracy 0.928515625\n",
      "epochs 41/50\n",
      "train_loss 0.2735460102558136, train_accuracy 0.8889412715517241\n",
      "validation_loss 0.19118674099445343, validation_accuracy 0.933984375\n",
      "epochs 42/50\n",
      "train_loss 0.2724670171737671, train_accuracy 0.888671875\n",
      "validation_loss 0.21300390362739563, validation_accuracy 0.93125\n",
      "epochs 43/50\n",
      "train_loss 0.2691197693347931, train_accuracy 0.8918372844827587\n",
      "validation_loss 0.1723635494709015, validation_accuracy 0.934375\n",
      "epochs 44/50\n",
      "train_loss 0.26744773983955383, train_accuracy 0.8917699353448276\n",
      "validation_loss 0.17036858201026917, validation_accuracy 0.934375\n",
      "epochs 45/50\n",
      "train_loss 0.26369038224220276, train_accuracy 0.8939251077586207\n",
      "validation_loss 0.16389703750610352, validation_accuracy 0.931640625\n",
      "epochs 46/50\n",
      "train_loss 0.26309219002723694, train_accuracy 0.8939924568965517\n",
      "validation_loss 0.1626940667629242, validation_accuracy 0.930859375\n",
      "epochs 47/50\n",
      "train_loss 0.2601691782474518, train_accuracy 0.896417025862069\n",
      "validation_loss 0.18842321634292603, validation_accuracy 0.934375\n",
      "epochs 48/50\n",
      "train_loss 0.2560412287712097, train_accuracy 0.8980334051724138\n",
      "validation_loss 0.1701970398426056, validation_accuracy 0.932421875\n",
      "epochs 49/50\n",
      "train_loss 0.25839704275131226, train_accuracy 0.896551724137931\n",
      "validation_loss 0.15780071914196014, validation_accuracy 0.93515625\n",
      "epochs 50/50\n",
      "train_loss 0.25233224034309387, train_accuracy 0.900323275862069\n",
      "validation_loss 0.16574029624462128, validation_accuracy 0.932421875\n"
     ]
    }
   ],
   "source": [
    "import gc\n",
    "train_losses = []\n",
    "valid_losses = []\n",
    "def train(device = device):\n",
    "\n",
    "    running_loss = .0\n",
    "    y_true = []\n",
    "    y_pred_probs = []\n",
    "    model.train()\n",
    "\n",
    "    for idx, (inputs,labels) in enumerate(train_loader):\n",
    "        inputs = inputs.to(device)\n",
    "        labels = labels.to(device)\n",
    "        optimizer.zero_grad()\n",
    "        preds = model(inputs.float())\n",
    "        loss = criterion(preds, labels.squeeze().long())\n",
    "        loss.backward()\n",
    "        optimizer.step()\n",
    "\n",
    "        if not loss.isnan():\n",
    "            running_loss += loss\n",
    "\n",
    "        y_true.extend(labels.cpu().numpy())\n",
    "        y_pred_probs.extend(preds.detach().cpu().numpy())\n",
    "\n",
    "    train_loss = running_loss/len(train_loader)\n",
    "    train_losses.append(train_loss.detach().numpy())\n",
    "\n",
    "    y_true = np.array(y_true)\n",
    "    y_pred_probs = np.array(y_pred_probs)\n",
    "    accuracy = calculate_accuracy(y_true, y_pred_probs)\n",
    "\n",
    "    print(f'train_loss {train_loss}, train_accuracy {accuracy}')\n",
    "    return train_losses\n",
    "\n",
    "def valid(device = device):\n",
    "    running_loss = .0\n",
    "    y_true = []\n",
    "    y_pred_probs = []\n",
    "    model.eval()\n",
    "\n",
    "    with torch.no_grad():\n",
    "        for idx, (inputs, labels) in enumerate(test_loader):\n",
    "            inputs = inputs.to(device)\n",
    "            labels = labels.to(device)\n",
    "            preds = model(inputs.float())\n",
    "            loss = criterion(preds, labels.squeeze().long())\n",
    "            \n",
    "            if not loss.isnan():\n",
    "              running_loss += loss\n",
    "\n",
    "            y_true.extend(labels.cpu().numpy())\n",
    "            y_pred_probs.extend(preds.detach().cpu().numpy())\n",
    "\n",
    "        valid_loss = running_loss/len(test_loader)\n",
    "        if not valid_loss == 0.0:\n",
    "            valid_losses.append(valid_loss.detach().numpy())\n",
    "        else:\n",
    "            valid_losses == \"error\"\n",
    "\n",
    "        y_true = np.array(y_true)\n",
    "        y_pred_probs = np.array(y_pred_probs)\n",
    "        accuracy = calculate_accuracy(y_true, y_pred_probs)\n",
    "\n",
    "        print(f'validation_loss {valid_loss}, validation_accuracy {accuracy}')\n",
    "    return valid_losses, accuracy\n",
    "\n",
    "epochs = 50\n",
    "for epoch in range(epochs):\n",
    "    print('epochs {}/{}'.format(epoch+1,epochs))\n",
    "    train_losses = train(device)\n",
    "    valid_losses, _ = valid(device)\n",
    "    gc.collect()"
   ]
  },
  {
   "cell_type": "code",
   "execution_count": 27,
   "id": "6ca72854-d90c-4567-9550-0e544614dd1e",
   "metadata": {},
   "outputs": [
    {
     "data": {
      "image/png": "[encoded data removed]",
      "text/plain": [
       "<Figure size 640x480 with 1 Axes>"
      ]
     },
     "metadata": {},
     "output_type": "display_data"
    }
   ],
   "source": [
    "plt.plot(train_losses, label='Train Loss')\n",
    "plt.xlabel('Epoch')\n",
    "plt.ylabel('Loss')\n",
    "plt.legend()\n",
    "plt.show()"
   ]
  },
  {
   "cell_type": "code",
   "execution_count": 28,
   "id": "eefa3cee-4e7b-4326-ac1f-7f34fe2d3054",
   "metadata": {},
   "outputs": [
    {
     "data": {
      "image/png": "[encoded data removed]",
      "text/plain": [
       "<Figure size 640x480 with 1 Axes>"
      ]
     },
     "metadata": {},
     "output_type": "display_data"
    }
   ],
   "source": [
    "plt.plot(valid_losses, label='Valid Loss')\n",
    "plt.xlabel('Epoch')\n",
    "plt.ylabel('Loss')\n",
    "plt.legend()\n",
    "plt.show()"
   ]
  },
  {
   "cell_type": "code",
   "execution_count": 42,
   "id": "48034d75-a194-4975-957b-7e83c7925bfa",
   "metadata": {},
   "outputs": [
    {
     "name": "stdout",
     "output_type": "stream",
     "text": [
      "                 precision    recall  f1-score   support\n",
      "\n",
      "inactive motion       0.76      0.99      0.86      1833\n",
      "  active motion       0.99      0.71      0.83      2007\n",
      "\n",
      "       accuracy                           0.85      3840\n",
      "      macro avg       0.88      0.85      0.85      3840\n",
      "   weighted avg       0.88      0.85      0.84      3840\n",
      "\n",
      " control_accuracy 0.8471354166666667\n"
     ]
    }
   ],
   "source": [
    "y_true = []\n",
    "y_pred_probs = []\n",
    "model.eval()\n",
    "total = 0.0\n",
    "\n",
    "with torch.no_grad():\n",
    "    for idx, (inputs, labels) in enumerate(control_loader):\n",
    "        inputs = inputs.to(device)\n",
    "        labels = labels.to(device)\n",
    "        #optimizer.zero_grad()\n",
    "        preds = model(inputs.float())\n",
    "        loss = criterion(preds, labels.squeeze().long())\n",
    "        class_names = ['inactive motion', 'active motion']\n",
    "        y_true.extend(labels.cpu().numpy())\n",
    "        y_pred_probs.extend(preds.detach().cpu().numpy())\n",
    "\n",
    "    y_true = np.array(y_true)\n",
    "    y_pred_probs = np.array(y_pred_probs)\n",
    "    report = classification_report(y_true, np.argmax(y_pred_probs, axis=1), target_names=class_names)\n",
    "    print(report)\n",
    "    accuracy = calculate_accuracy(y_true, y_pred_probs)\n",
    "\n",
    "    print(f' control_accuracy {accuracy}')"
   ]
  },
  {
   "cell_type": "code",
   "execution_count": 41,
   "id": "01f53f8d-50df-4e60-b526-2273886405ca",
   "metadata": {},
   "outputs": [
    {
     "data": {
      "text/plain": [
       "2007.0"
      ]
     },
     "execution_count": 41,
     "metadata": {},
     "output_type": "execute_result"
    }
   ],
   "source": [
    "y_true.sum()"
   ]
  },
  {
   "cell_type": "code",
   "execution_count": 45,
   "id": "18efd80c-8c9b-4091-ad68-81f94c9137b0",
   "metadata": {},
   "outputs": [
    {
     "name": "stdout",
     "output_type": "stream",
     "text": [
      "                 precision    recall  f1-score   support\n",
      "\n",
      "inactive motion       0.84      0.99      0.91      7237\n",
      "  active motion       0.99      0.82      0.90      7611\n",
      "\n",
      "       accuracy                           0.90     14848\n",
      "      macro avg       0.91      0.90      0.90     14848\n",
      "   weighted avg       0.92      0.90      0.90     14848\n",
      "\n",
      "train_accuracy 0.9019396551724138\n"
     ]
    }
   ],
   "source": [
    "y_true = []\n",
    "y_pred_probs = []\n",
    "model.eval()\n",
    "total = 0.0\n",
    "\n",
    "with torch.no_grad():\n",
    "    for idx, (inputs, labels) in enumerate(train_loader):\n",
    "        inputs = inputs.to(device)\n",
    "        labels = labels.to(device)\n",
    "        #optimizer.zero_grad()\n",
    "        preds = model(inputs.float())\n",
    "        loss = criterion(preds, labels.squeeze().long())\n",
    "        class_names = ['inactive motion', 'active motion']\n",
    "        y_true.extend(labels.cpu().numpy())\n",
    "        y_pred_probs.extend(preds.detach().cpu().numpy())\n",
    "\n",
    "    y_true = np.array(y_true)\n",
    "    y_pred_probs = np.array(y_pred_probs)\n",
    "    report = classification_report(y_true, np.argmax(y_pred_probs, axis=1), target_names=class_names)\n",
    "    print(report)\n",
    "    accuracy = calculate_accuracy(y_true, y_pred_probs)\n",
    "\n",
    "    print(f'train_accuracy {accuracy}')"
   ]
  },
  {
   "cell_type": "code",
   "execution_count": 46,
   "id": "367ff99c-53f6-4d0f-82a5-03c298bf6a4d",
   "metadata": {},
   "outputs": [
    {
     "name": "stdout",
     "output_type": "stream",
     "text": [
      "                 precision    recall  f1-score   support\n",
      "\n",
      "inactive motion       0.90      0.97      0.93      1245\n",
      "  active motion       0.97      0.90      0.93      1315\n",
      "\n",
      "       accuracy                           0.93      2560\n",
      "      macro avg       0.94      0.93      0.93      2560\n",
      "   weighted avg       0.94      0.93      0.93      2560\n",
      "\n",
      "train_accuracy 0.93359375\n"
     ]
    }
   ],
   "source": [
    "y_true = []\n",
    "y_pred_probs = []\n",
    "model.eval()\n",
    "total = 0.0\n",
    "\n",
    "with torch.no_grad():\n",
    "    for idx, (inputs, labels) in enumerate(test_loader):\n",
    "        inputs = inputs.to(device)\n",
    "        labels = labels.to(device)\n",
    "        #optimizer.zero_grad()\n",
    "        preds = model(inputs.float())\n",
    "        loss = criterion(preds, labels.squeeze().long())\n",
    "        class_names = ['inactive motion', 'active motion']\n",
    "        y_true.extend(labels.cpu().numpy())\n",
    "        y_pred_probs.extend(preds.detach().cpu().numpy())\n",
    "\n",
    "    y_true = np.array(y_true)\n",
    "    y_pred_probs = np.array(y_pred_probs)\n",
    "    report = classification_report(y_true, np.argmax(y_pred_probs, axis=1), target_names=class_names)\n",
    "    print(report)\n",
    "    accuracy = calculate_accuracy(y_true, y_pred_probs)\n",
    "\n",
    "    print(f'train_accuracy {accuracy}')"
   ]
  },
  {
   "cell_type": "code",
   "execution_count": null,
   "id": "6af711dc-78d5-47ed-9adf-ec81eaa5959c",
   "metadata": {},
   "outputs": [],
   "source": []
  }
 ],
 "metadata": {
  "kernelspec": {
   "display_name": "Python 3 (ipykernel)",
   "language": "python",
   "name": "python3"
  },
  "language_info": {
   "codemirror_mode": {
    "name": "ipython",
    "version": 3
   },
   "file_extension": ".py",
   "mimetype": "text/x-python",
   "name": "python",
   "nbconvert_exporter": "python",
   "pygments_lexer": "ipython3",
   "version": "3.10.12"
  }
 },
 "nbformat": 4,
 "nbformat_minor": 5
}
