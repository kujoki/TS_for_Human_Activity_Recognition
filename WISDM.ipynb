{
 "cells": [
  {
   "cell_type": "code",
   "execution_count": 3,
   "id": "b3b501a6-6e40-440a-87f7-5108b78afead",
   "metadata": {},
   "outputs": [
    {
     "name": "stdout",
     "output_type": "stream",
     "text": [
      "Collecting scikit-learn\n",
      "  Obtaining dependency information for scikit-learn from https://files.pythonhosted.org/packages/5c/e9/ee572691a3fb05555bcde41826faad29ae4bc1fb07982e7f53d54a176879/scikit_learn-1.3.0-cp310-cp310-manylinux_2_17_x86_64.manylinux2014_x86_64.whl.metadata\n",
      "  Using cached scikit_learn-1.3.0-cp310-cp310-manylinux_2_17_x86_64.manylinux2014_x86_64.whl.metadata (11 kB)\n",
      "Requirement already satisfied: numpy>=1.17.3 in ./venv/lib/python3.10/site-packages (from scikit-learn) (1.25.2)\n",
      "Requirement already satisfied: scipy>=1.5.0 in ./venv/lib/python3.10/site-packages (from scikit-learn) (1.11.2)\n",
      "Collecting joblib>=1.1.1 (from scikit-learn)\n",
      "  Obtaining dependency information for joblib>=1.1.1 from https://files.pythonhosted.org/packages/10/40/d551139c85db202f1f384ba8bcf96aca2f329440a844f924c8a0040b6d02/joblib-1.3.2-py3-none-any.whl.metadata\n",
      "  Using cached joblib-1.3.2-py3-none-any.whl.metadata (5.4 kB)\n",
      "Collecting threadpoolctl>=2.0.0 (from scikit-learn)\n",
      "  Obtaining dependency information for threadpoolctl>=2.0.0 from https://files.pythonhosted.org/packages/81/12/fd4dea011af9d69e1cad05c75f3f7202cdcbeac9b712eea58ca779a72865/threadpoolctl-3.2.0-py3-none-any.whl.metadata\n",
      "  Using cached threadpoolctl-3.2.0-py3-none-any.whl.metadata (10.0 kB)\n",
      "Using cached scikit_learn-1.3.0-cp310-cp310-manylinux_2_17_x86_64.manylinux2014_x86_64.whl (10.8 MB)\n",
      "Using cached joblib-1.3.2-py3-none-any.whl (302 kB)\n",
      "Using cached threadpoolctl-3.2.0-py3-none-any.whl (15 kB)\n",
      "Installing collected packages: threadpoolctl, joblib, scikit-learn\n",
      "Successfully installed joblib-1.3.2 scikit-learn-1.3.0 threadpoolctl-3.2.0\n"
     ]
    }
   ],
   "source": [
    "!pip install -U scikit-learn"
   ]
  },
  {
   "cell_type": "code",
   "execution_count": 1,
   "id": "b094952b-044a-44c9-925d-d1d3a3f3c538",
   "metadata": {},
   "outputs": [],
   "source": [
    "import matplotlib.pyplot as plt\n",
    "import numpy as np\n",
    "import pandas as pd\n",
    "from scipy import stats\n",
    "from sklearn.metrics import (accuracy_score, classification_report,\n",
    "                             confusion_matrix, roc_auc_score)\n",
    "from sklearn.utils import resample\n",
    "\n",
    "%matplotlib inline\n",
    "\n",
    "import logging\n",
    "\n",
    "import torch\n",
    "import torchmetrics\n",
    "import torch.nn as nn\n",
    "import torch.optim as optim\n",
    "from pytorch_lightning.loggers import TensorBoardLogger\n",
    "from sklearn import preprocessing\n",
    "from sklearn.model_selection import KFold\n",
    "from sklearn.utils import resample\n",
    "from torch.utils.data import DataLoader, TensorDataset\n",
    "\n",
    "import random"
   ]
  },
  {
   "cell_type": "code",
   "execution_count": 2,
   "id": "ebdad6e9-adc6-44a0-985a-22658cc7e26b",
   "metadata": {},
   "outputs": [],
   "source": [
    "torch.manual_seed(42)\n",
    "random.seed(42)"
   ]
  },
  {
   "cell_type": "code",
   "execution_count": 3,
   "id": "9f857232-3c9d-49e9-af22-88cafc8f5f28",
   "metadata": {},
   "outputs": [
    {
     "name": "stderr",
     "output_type": "stream",
     "text": [
      "/tmp/ipykernel_17523/379243730.py:5: SettingWithCopyWarning: \n",
      "A value is trying to be set on a copy of a slice from a DataFrame.\n",
      "Try using .loc[row_indexer,col_indexer] = value instead\n",
      "\n",
      "See the caveats in the documentation: https://pandas.pydata.org/pandas-docs/stable/user_guide/indexing.html#returning-a-view-versus-a-copy\n",
      "  filtred_df[0] = filtred_df[0].apply(lambda x: x.split(','))\n",
      "/tmp/ipykernel_17523/379243730.py:10: SettingWithCopyWarning: \n",
      "A value is trying to be set on a copy of a slice from a DataFrame.\n",
      "Try using .loc[row_indexer,col_indexer] = value instead\n",
      "\n",
      "See the caveats in the documentation: https://pandas.pydata.org/pandas-docs/stable/user_guide/indexing.html#returning-a-view-versus-a-copy\n",
      "  filtred_df[f'{el}'] = filtred_df[0].apply(lambda x: x[i])\n",
      "/tmp/ipykernel_17523/379243730.py:10: SettingWithCopyWarning: \n",
      "A value is trying to be set on a copy of a slice from a DataFrame.\n",
      "Try using .loc[row_indexer,col_indexer] = value instead\n",
      "\n",
      "See the caveats in the documentation: https://pandas.pydata.org/pandas-docs/stable/user_guide/indexing.html#returning-a-view-versus-a-copy\n",
      "  filtred_df[f'{el}'] = filtred_df[0].apply(lambda x: x[i])\n",
      "/tmp/ipykernel_17523/379243730.py:10: SettingWithCopyWarning: \n",
      "A value is trying to be set on a copy of a slice from a DataFrame.\n",
      "Try using .loc[row_indexer,col_indexer] = value instead\n",
      "\n",
      "See the caveats in the documentation: https://pandas.pydata.org/pandas-docs/stable/user_guide/indexing.html#returning-a-view-versus-a-copy\n",
      "  filtred_df[f'{el}'] = filtred_df[0].apply(lambda x: x[i])\n",
      "/tmp/ipykernel_17523/379243730.py:10: SettingWithCopyWarning: \n",
      "A value is trying to be set on a copy of a slice from a DataFrame.\n",
      "Try using .loc[row_indexer,col_indexer] = value instead\n",
      "\n",
      "See the caveats in the documentation: https://pandas.pydata.org/pandas-docs/stable/user_guide/indexing.html#returning-a-view-versus-a-copy\n",
      "  filtred_df[f'{el}'] = filtred_df[0].apply(lambda x: x[i])\n",
      "/tmp/ipykernel_17523/379243730.py:10: SettingWithCopyWarning: \n",
      "A value is trying to be set on a copy of a slice from a DataFrame.\n",
      "Try using .loc[row_indexer,col_indexer] = value instead\n",
      "\n",
      "See the caveats in the documentation: https://pandas.pydata.org/pandas-docs/stable/user_guide/indexing.html#returning-a-view-versus-a-copy\n",
      "  filtred_df[f'{el}'] = filtred_df[0].apply(lambda x: x[i])\n",
      "/tmp/ipykernel_17523/379243730.py:12: SettingWithCopyWarning: \n",
      "A value is trying to be set on a copy of a slice from a DataFrame.\n",
      "Try using .loc[row_indexer,col_indexer] = value instead\n",
      "\n",
      "See the caveats in the documentation: https://pandas.pydata.org/pandas-docs/stable/user_guide/indexing.html#returning-a-view-versus-a-copy\n",
      "  filtred_df[f'{el}'] = filtred_df[0].apply(lambda x: x[i][:-1])\n"
     ]
    }
   ],
   "source": [
    "df = pd.read_csv(\"WISDM_ar_v1.1_raw.txt\", sep = ' ', header = None)\n",
    "\n",
    "df['lenght'] = df[0].apply(lambda x: x.split(',')).apply(lambda x: len(x))\n",
    "filtred_df = df[~df['lenght'].isin([7, 11])]\n",
    "filtred_df[0] = filtred_df[0].apply(lambda x: x.split(','))\n",
    "\n",
    "columns = ['user','activity','timestamp', 'x-axis', 'y-axis', 'z-axis']\n",
    "for i, el in enumerate(columns):\n",
    "  if i != len(columns)-1:\n",
    "    filtred_df[f'{el}'] = filtred_df[0].apply(lambda x: x[i])\n",
    "  else:\n",
    "    filtred_df[f'{el}'] = filtred_df[0].apply(lambda x: x[i][:-1])\n",
    "\n",
    "filtred_df = filtred_df.drop(columns = [0, 'lenght', 'timestamp'])"
   ]
  },
  {
   "cell_type": "code",
   "execution_count": 4,
   "id": "c7f64cb3-c364-4b50-a798-3de3283852df",
   "metadata": {},
   "outputs": [],
   "source": [
    "le = preprocessing.LabelEncoder()\n",
    "filtred_df['activity'] = le.fit_transform(filtred_df['activity'])\n",
    "\n",
    "def transform(x):\n",
    "  try:\n",
    "    x = float(x)\n",
    "  except ValueError:\n",
    "    x = np.nan\n",
    "  return x\n",
    "\n",
    "for el in filtred_df.columns:\n",
    "  filtred_df[el] = filtred_df[el].apply(lambda x: transform(x))"
   ]
  },
  {
   "cell_type": "code",
   "execution_count": 21,
   "id": "153f69d4-0900-4401-a134-a1dbacd9e016",
   "metadata": {},
   "outputs": [],
   "source": [
    "unique_users = list(filtred_df[\"user\"].unique())"
   ]
  },
  {
   "cell_type": "code",
   "execution_count": 22,
   "id": "57763d05-6422-443d-9657-a00b7cf85759",
   "metadata": {},
   "outputs": [],
   "source": [
    "random.shuffle(unique_users)"
   ]
  },
  {
   "cell_type": "code",
   "execution_count": 45,
   "id": "442a260e-0110-4089-9c7b-081016694cc7",
   "metadata": {},
   "outputs": [
    {
     "data": {
      "text/plain": [
       "[35.0, 1.0, 11.0, 20.0]"
      ]
     },
     "execution_count": 45,
     "metadata": {},
     "output_type": "execute_result"
    }
   ],
   "source": [
    "unique_users[26:30]"
   ]
  },
  {
   "cell_type": "code",
   "execution_count": 46,
   "id": "082f1e1f-eea3-4dc4-9cd7-99e5fc11c62f",
   "metadata": {},
   "outputs": [
    {
     "data": {
      "text/plain": [
       "[29.0, 19.0, 16.0, 18.0, 26.0, 23.0]"
      ]
     },
     "execution_count": 46,
     "metadata": {},
     "output_type": "execute_result"
    }
   ],
   "source": [
    "unique_users[30:]"
   ]
  },
  {
   "cell_type": "code",
   "execution_count": null,
   "id": "20be35d8-0079-493c-a397-3eaca4f7efe0",
   "metadata": {},
   "outputs": [],
   "source": [
    "unique_users[:26]"
   ]
  },
  {
   "cell_type": "code",
   "execution_count": 23,
   "id": "4acc1bad-1d1f-420b-9854-2b3237689662",
   "metadata": {},
   "outputs": [],
   "source": [
    "for col in ['x-axis', 'y-axis', 'z-axis']:\n",
    "  mean_value = filtred_df[col].mean()\n",
    "  sigma = filtred_df[col].std()\n",
    "  filtred_df[col] = filtred_df[col].apply(lambda x: (x-mean_value)/sigma)"
   ]
  },
  {
   "cell_type": "code",
   "execution_count": 24,
   "id": "53873916-ec45-45ad-9afe-854996313c7e",
   "metadata": {},
   "outputs": [
    {
     "name": "stdout",
     "output_type": "stream",
     "text": [
      "14976 14976\n"
     ]
    }
   ],
   "source": [
    "def group_by_user(df, user):\n",
    "  return df[df['user'] == user].reset_index(drop = True)\n",
    "\n",
    "def create_window(df, overlay, window_size, train_x, train_y):\n",
    "  for i in range(0, df.shape[0], overlay):\n",
    "    df_sub = df.iloc[i:i+window_size]\n",
    "\n",
    "    if df_sub.shape[0] == window_size:\n",
    "      train_x.append(df_sub[['x-axis', 'y-axis', 'z-axis']].to_numpy())\n",
    "      train_y.append(df_sub['activity'].mode().iloc[0])\n",
    "\n",
    "  return train_x, train_y\n",
    "\n",
    "\n",
    "train_x = []\n",
    "train_y = []\n",
    "\n",
    "window_size = 100\n",
    "overlay = 50\n",
    "\n",
    "users = unique_users[:26]\n",
    "for user in users:\n",
    "  df_user = group_by_user(filtred_df, user)\n",
    "  create_window(df_user, overlay, window_size, train_x, train_y)\n",
    "\n",
    "print (len(train_x), len(train_y))"
   ]
  },
  {
   "cell_type": "code",
   "execution_count": 25,
   "id": "bc47e447-6514-4b0d-af74-abceae92451f",
   "metadata": {},
   "outputs": [
    {
     "data": {
      "text/plain": [
       "6"
      ]
     },
     "execution_count": 25,
     "metadata": {},
     "output_type": "execute_result"
    }
   ],
   "source": [
    "filtred_df['activity'].nunique()"
   ]
  },
  {
   "cell_type": "code",
   "execution_count": 26,
   "id": "6a89665a-8f1b-49bc-9e6e-3923daf06d7e",
   "metadata": {},
   "outputs": [
    {
     "data": {
      "text/plain": [
       "36"
      ]
     },
     "execution_count": 26,
     "metadata": {},
     "output_type": "execute_result"
    }
   ],
   "source": [
    "filtred_df['user'].nunique()"
   ]
  },
  {
   "cell_type": "code",
   "execution_count": 27,
   "id": "f1d76e0e-5914-4188-8e8b-9917180f3601",
   "metadata": {},
   "outputs": [
    {
     "name": "stdout",
     "output_type": "stream",
     "text": [
      "2807 2807\n"
     ]
    }
   ],
   "source": [
    "test_x = []\n",
    "test_y = []\n",
    "\n",
    "users = unique_users[26:30]\n",
    "for user in users:\n",
    "  df_user = group_by_user(filtred_df, user)\n",
    "  create_window(df_user, overlay, window_size, test_x, test_y)\n",
    "\n",
    "print (len(test_x), len(test_y))"
   ]
  },
  {
   "cell_type": "code",
   "execution_count": 28,
   "id": "1dd88d8c-ab6f-4832-a36b-6c46e9f0296c",
   "metadata": {},
   "outputs": [
    {
     "name": "stdout",
     "output_type": "stream",
     "text": [
      "3894 3894\n"
     ]
    }
   ],
   "source": [
    "control_x = []\n",
    "control_y = []\n",
    "\n",
    "users = unique_users[30:]\n",
    "for user in users:\n",
    "  df_user = group_by_user(filtred_df, user)\n",
    "  create_window(df_user, overlay, window_size, control_x, control_y)\n",
    "\n",
    "print (len(control_x), len(control_y))"
   ]
  },
  {
   "cell_type": "code",
   "execution_count": 29,
   "id": "f88929b4-92bc-4b00-864e-616602a44370",
   "metadata": {},
   "outputs": [],
   "source": [
    "train_dataset = TensorDataset(torch.tensor(np.array(train_x).transpose(0, 2, 1), dtype=torch.float32), torch.tensor(np.array(train_y).reshape(-1, 1), dtype=torch.float32))\n",
    "train_loader = DataLoader(train_dataset, batch_size=256, shuffle=True, drop_last = True)\n",
    "\n",
    "test_dataset = TensorDataset(torch.tensor(np.array(test_x).transpose(0, 2, 1), dtype=torch.float32), torch.tensor(np.array(test_y).reshape(-1, 1), dtype=torch.float32))\n",
    "test_loader = DataLoader(test_dataset, batch_size=256, shuffle=True, drop_last = True)"
   ]
  },
  {
   "cell_type": "code",
   "execution_count": 30,
   "id": "d7613ead-5cd9-44d5-a0b5-618c51fdb3a2",
   "metadata": {},
   "outputs": [],
   "source": [
    "control_dataset = TensorDataset(torch.tensor(np.array(control_x).transpose(0, 2, 1), dtype=torch.float32), torch.tensor(np.array(control_y).reshape(-1, 1), dtype=torch.float32))\n",
    "control_loader = DataLoader(control_dataset, batch_size=256, shuffle=False, drop_last = True)"
   ]
  },
  {
   "cell_type": "code",
   "execution_count": 31,
   "id": "316aa7e0-f33a-42ca-852f-a8b5f79ebe4d",
   "metadata": {},
   "outputs": [
    {
     "name": "stdout",
     "output_type": "stream",
     "text": [
      "torch.Size([256, 3, 100]) torch.Size([256, 1])\n"
     ]
    }
   ],
   "source": [
    "for inputs, labels in train_loader:\n",
    "  print (inputs.shape, labels.shape)\n",
    "  break"
   ]
  },
  {
   "cell_type": "code",
   "execution_count": 32,
   "id": "36e9d951-40f7-4748-89a6-2f5cffcd2143",
   "metadata": {},
   "outputs": [
    {
     "name": "stdout",
     "output_type": "stream",
     "text": [
      "torch.Size([256, 3, 100]) torch.Size([256, 1])\n"
     ]
    }
   ],
   "source": [
    "for inputs, labels in test_loader:\n",
    "  print (inputs.shape, labels.shape)\n",
    "  break"
   ]
  },
  {
   "cell_type": "code",
   "execution_count": 51,
   "id": "273541d0-c47e-40a7-b1e3-df7cb149dd48",
   "metadata": {},
   "outputs": [],
   "source": [
    "class ConvLSTMModel(nn.Module):\n",
    "    def __init__(self):\n",
    "        super(ConvLSTMModel, self).__init__()\n",
    "        self.conv1 = nn.Conv1d(in_channels=3, out_channels=128, kernel_size=3, padding=1)\n",
    "        self.batchnorm1 = nn.BatchNorm1d(128)\n",
    "        self.relu1 = nn.ReLU()\n",
    "        self.conv2 = nn.Conv1d(in_channels=128, out_channels=64, kernel_size=3, padding=1)\n",
    "        self.batchnorm2 = nn.BatchNorm1d(64)\n",
    "        self.relu2 = nn.ReLU()\n",
    "        self.maxpool = nn.MaxPool1d(kernel_size=2)\n",
    "        self.lstm = nn.LSTM(input_size=50, hidden_size=64, num_layers = 2, batch_first=True, dropout = 0.3)\n",
    "        self.dense1 = nn.Linear(64, 128)\n",
    "        self.relu3 = nn.ReLU()\n",
    "        self.dense2 = nn.Linear(128, 6)\n",
    "        self.softmax = nn.Softmax(dim=1)\n",
    "\n",
    "    def forward(self, x):\n",
    "        x = self.conv1(x)\n",
    "        x = self.batchnorm1(x)\n",
    "        x = self.relu1(x)\n",
    "        x = self.conv2(x)\n",
    "        x = self.batchnorm2(x)\n",
    "        x = self.relu2(x)\n",
    "        x = self.maxpool(x)\n",
    "        x, _ = self.lstm(x)\n",
    "        x = x[:, -1, :]\n",
    "        x = self.dense1(x)\n",
    "        x = self.relu3(x)\n",
    "        x = self.dense2(x)\n",
    "        return x"
   ]
  },
  {
   "cell_type": "code",
   "execution_count": 52,
   "id": "df62c91f-f717-4f59-b3b3-5e845bb82a69",
   "metadata": {},
   "outputs": [],
   "source": [
    "device = torch.device(\"cuda:0\" if torch.cuda.is_available() else \"cpu\")\n",
    "model = ConvLSTMModel().to(device)\n",
    "optimizer = torch.optim.Adam(model.parameters(), lr=1e-5)\n",
    "criterion = nn.CrossEntropyLoss()"
   ]
  },
  {
   "cell_type": "code",
   "execution_count": 53,
   "id": "ba02ac4c-1597-4030-b9bc-7712038d68cd",
   "metadata": {},
   "outputs": [],
   "source": [
    "def calculate_accuracy(y_true, y_pred):\n",
    "    y_pred_labels = np.argmax(y_pred, axis=1)\n",
    "    accuracy = accuracy_score(y_true, y_pred_labels)\n",
    "    return accuracy"
   ]
  },
  {
   "cell_type": "code",
   "execution_count": 54,
   "id": "7af9c845-322f-4f7a-bdbf-01f734f23d5e",
   "metadata": {},
   "outputs": [
    {
     "name": "stdout",
     "output_type": "stream",
     "text": [
      "epochs 1/50\n",
      "train_loss 1.7784157991409302, train_accuracy 0.1798895474137931\n",
      "validation_loss 1.4223058223724365, validation_accuracy 0.283203125\n",
      "epochs 2/50\n",
      "train_loss 1.7710847854614258, train_accuracy 0.38523706896551724\n",
      "validation_loss 1.5938632488250732, validation_accuracy 0.32109375\n",
      "epochs 3/50\n",
      "train_loss 1.7628417015075684, train_accuracy 0.39729256465517243\n",
      "validation_loss 1.587208867073059, validation_accuracy 0.322265625\n",
      "epochs 4/50\n",
      "train_loss 1.753311038017273, train_accuracy 0.39709051724137934\n",
      "validation_loss 1.4043689966201782, validation_accuracy 0.3203125\n",
      "epochs 5/50\n",
      "train_loss 1.7415688037872314, train_accuracy 0.39776400862068967\n",
      "validation_loss 1.5687053203582764, validation_accuracy 0.319140625\n",
      "epochs 6/50\n",
      "train_loss 1.7258775234222412, train_accuracy 0.3972252155172414\n",
      "validation_loss 1.3818320035934448, validation_accuracy 0.3171875\n",
      "epochs 7/50\n",
      "train_loss 1.7019751071929932, train_accuracy 0.3973599137931034\n",
      "validation_loss 1.3588736057281494, validation_accuracy 0.32265625\n",
      "epochs 8/50\n",
      "train_loss 1.6643155813217163, train_accuracy 0.39776400862068967\n",
      "validation_loss 1.3222541809082031, validation_accuracy 0.32265625\n",
      "epochs 9/50\n",
      "train_loss 1.6067945957183838, train_accuracy 0.39715786637931033\n",
      "validation_loss 1.4231587648391724, validation_accuracy 0.326171875\n",
      "epochs 10/50\n",
      "train_loss 1.5306177139282227, train_accuracy 0.39776400862068967\n",
      "validation_loss 1.2059416770935059, validation_accuracy 0.319140625\n",
      "epochs 11/50\n",
      "train_loss 1.459276556968689, train_accuracy 0.39776400862068967\n",
      "validation_loss 1.3017387390136719, validation_accuracy 0.321484375\n",
      "epochs 12/50\n",
      "train_loss 1.4047225713729858, train_accuracy 0.3975619612068966\n",
      "validation_loss 1.1236063241958618, validation_accuracy 0.3234375\n",
      "epochs 13/50\n",
      "train_loss 1.3672765493392944, train_accuracy 0.39695581896551724\n",
      "validation_loss 1.1030460596084595, validation_accuracy 0.319921875\n",
      "epochs 14/50\n",
      "train_loss 1.340755820274353, train_accuracy 0.3972252155172414\n",
      "validation_loss 1.219558835029602, validation_accuracy 0.321484375\n",
      "epochs 15/50\n",
      "train_loss 1.3199238777160645, train_accuracy 0.39695581896551724\n",
      "validation_loss 1.05796217918396, validation_accuracy 0.3234375\n",
      "epochs 16/50\n",
      "train_loss 1.3030998706817627, train_accuracy 0.3970231681034483\n",
      "validation_loss 1.054111123085022, validation_accuracy 0.319921875\n",
      "epochs 17/50\n",
      "train_loss 1.288588047027588, train_accuracy 0.3972252155172414\n",
      "validation_loss 1.048910140991211, validation_accuracy 0.326953125\n",
      "epochs 18/50\n",
      "train_loss 1.272320032119751, train_accuracy 0.3973599137931034\n",
      "validation_loss 1.0384085178375244, validation_accuracy 0.321484375\n",
      "epochs 19/50\n",
      "train_loss 1.2553855180740356, train_accuracy 0.3995150862068966\n",
      "validation_loss 1.0305602550506592, validation_accuracy 0.325390625\n",
      "epochs 20/50\n",
      "train_loss 1.2337841987609863, train_accuracy 0.48572198275862066\n",
      "validation_loss 1.0111956596374512, validation_accuracy 0.54140625\n",
      "epochs 21/50\n",
      "train_loss 1.2076199054718018, train_accuracy 0.6136853448275862\n",
      "validation_loss 0.9945739507675171, validation_accuracy 0.56328125\n",
      "epochs 22/50\n",
      "train_loss 1.1732910871505737, train_accuracy 0.6454067887931034\n",
      "validation_loss 0.9832579493522644, validation_accuracy 0.569140625\n",
      "epochs 23/50\n",
      "train_loss 1.1306525468826294, train_accuracy 0.6637931034482759\n",
      "validation_loss 0.9494864344596863, validation_accuracy 0.57265625\n",
      "epochs 24/50\n",
      "train_loss 1.0871803760528564, train_accuracy 0.6720096982758621\n",
      "validation_loss 0.9368082284927368, validation_accuracy 0.57734375\n",
      "epochs 25/50\n",
      "train_loss 1.048244595527649, train_accuracy 0.6770608836206896\n",
      "validation_loss 0.9091657400131226, validation_accuracy 0.577734375\n",
      "epochs 26/50\n",
      "train_loss 1.0123950242996216, train_accuracy 0.6804956896551724\n",
      "validation_loss 0.9108937382698059, validation_accuracy 0.56953125\n",
      "epochs 27/50\n",
      "train_loss 0.9820482134819031, train_accuracy 0.6796875\n",
      "validation_loss 0.8873739242553711, validation_accuracy 0.58671875\n",
      "epochs 28/50\n",
      "train_loss 0.9561067819595337, train_accuracy 0.6811018318965517\n",
      "validation_loss 0.8748952746391296, validation_accuracy 0.5828125\n",
      "epochs 29/50\n",
      "train_loss 0.9268358945846558, train_accuracy 0.6828529094827587\n",
      "validation_loss 0.8602235913276672, validation_accuracy 0.594921875\n",
      "epochs 30/50\n",
      "train_loss 0.9031355381011963, train_accuracy 0.6825835129310345\n",
      "validation_loss 0.8140560984611511, validation_accuracy 0.6140625\n",
      "epochs 31/50\n",
      "train_loss 0.8816033005714417, train_accuracy 0.6827855603448276\n",
      "validation_loss 0.9212244749069214, validation_accuracy 0.611328125\n",
      "epochs 32/50\n",
      "train_loss 0.8628494143486023, train_accuracy 0.6831223060344828\n",
      "validation_loss 0.8010017275810242, validation_accuracy 0.61640625\n",
      "epochs 33/50\n",
      "train_loss 0.8434135913848877, train_accuracy 0.6841998922413793\n",
      "validation_loss 0.7786076664924622, validation_accuracy 0.630078125\n",
      "epochs 34/50\n",
      "train_loss 0.828307569026947, train_accuracy 0.6833243534482759\n",
      "validation_loss 0.7604968547821045, validation_accuracy 0.63046875\n",
      "epochs 35/50\n",
      "train_loss 0.8120443224906921, train_accuracy 0.6850754310344828\n",
      "validation_loss 0.7680469751358032, validation_accuracy 0.62734375\n",
      "epochs 36/50\n",
      "train_loss 0.8007151484489441, train_accuracy 0.6928879310344828\n",
      "validation_loss 0.75629723072052, validation_accuracy 0.63125\n",
      "epochs 37/50\n",
      "train_loss 0.786916971206665, train_accuracy 0.701104525862069\n",
      "validation_loss 0.766934871673584, validation_accuracy 0.613671875\n",
      "epochs 38/50\n",
      "train_loss 0.7733889222145081, train_accuracy 0.7056842672413793\n",
      "validation_loss 0.8985611200332642, validation_accuracy 0.637109375\n",
      "epochs 39/50\n",
      "train_loss 0.7606730461120605, train_accuracy 0.7099946120689655\n",
      "validation_loss 0.7104013562202454, validation_accuracy 0.633203125\n",
      "epochs 40/50\n",
      "train_loss 0.7480328679084778, train_accuracy 0.7169989224137931\n",
      "validation_loss 0.718075156211853, validation_accuracy 0.6296875\n",
      "epochs 41/50\n",
      "train_loss 0.7358381748199463, train_accuracy 0.7225215517241379\n",
      "validation_loss 0.843640148639679, validation_accuracy 0.6140625\n",
      "epochs 42/50\n",
      "train_loss 0.7225099802017212, train_accuracy 0.7295258620689655\n",
      "validation_loss 0.8252326846122742, validation_accuracy 0.628515625\n",
      "epochs 43/50\n",
      "train_loss 0.7076551914215088, train_accuracy 0.7365301724137931\n",
      "validation_loss 0.6926088333129883, validation_accuracy 0.647265625\n",
      "epochs 44/50\n",
      "train_loss 0.6956363320350647, train_accuracy 0.7439385775862069\n",
      "validation_loss 0.7246909141540527, validation_accuracy 0.639453125\n",
      "epochs 45/50\n",
      "train_loss 0.681227445602417, train_accuracy 0.7521551724137931\n",
      "validation_loss 0.8050628900527954, validation_accuracy 0.644140625\n",
      "epochs 46/50\n",
      "train_loss 0.6676105260848999, train_accuracy 0.7624595905172413\n",
      "validation_loss 0.7116184234619141, validation_accuracy 0.6515625\n",
      "epochs 47/50\n",
      "train_loss 0.6558238863945007, train_accuracy 0.7707435344827587\n",
      "validation_loss 0.7564209699630737, validation_accuracy 0.636328125\n",
      "epochs 48/50\n",
      "train_loss 0.6409935355186462, train_accuracy 0.7787580818965517\n",
      "validation_loss 0.6607588529586792, validation_accuracy 0.666015625\n",
      "epochs 49/50\n",
      "train_loss 0.6327011585235596, train_accuracy 0.7833378232758621\n",
      "validation_loss 0.6910051107406616, validation_accuracy 0.653515625\n",
      "epochs 50/50\n",
      "train_loss 0.6192484498023987, train_accuracy 0.7877828663793104\n",
      "validation_loss 0.6951751112937927, validation_accuracy 0.651171875\n"
     ]
    }
   ],
   "source": [
    "import gc\n",
    "train_losses = []\n",
    "valid_losses = []\n",
    "def train(device = device):\n",
    "\n",
    "    running_loss = .0\n",
    "    y_true = []\n",
    "    y_pred_probs = []\n",
    "    model.train()\n",
    "\n",
    "    for idx, (inputs,labels) in enumerate(train_loader):\n",
    "        inputs = inputs.to(device)\n",
    "        labels = labels.to(device)\n",
    "        optimizer.zero_grad()\n",
    "        preds = model(inputs.float())\n",
    "        loss = criterion(preds, labels.squeeze().long())\n",
    "        loss.backward()\n",
    "        optimizer.step()\n",
    "\n",
    "        if not loss.isnan():\n",
    "            running_loss += loss\n",
    "\n",
    "        y_true.extend(labels.cpu().numpy())\n",
    "        y_pred_probs.extend(preds.detach().cpu().numpy())\n",
    "\n",
    "    train_loss = running_loss/len(train_loader)\n",
    "    train_losses.append(train_loss.detach().numpy())\n",
    "\n",
    "    y_true = np.array(y_true)\n",
    "    y_pred_probs = np.array(y_pred_probs)\n",
    "    accuracy = calculate_accuracy(y_true, y_pred_probs)\n",
    "\n",
    "    print(f'train_loss {train_loss}, train_accuracy {accuracy}')\n",
    "    return train_losses\n",
    "\n",
    "def valid(device = device):\n",
    "    running_loss = .0\n",
    "    y_true = []\n",
    "    y_pred_probs = []\n",
    "    model.eval()\n",
    "\n",
    "    with torch.no_grad():\n",
    "        for idx, (inputs, labels) in enumerate(test_loader):\n",
    "            inputs = inputs.to(device)\n",
    "            labels = labels.to(device)\n",
    "            preds = model(inputs.float())\n",
    "            loss = criterion(preds, labels.squeeze().long())\n",
    "            \n",
    "            if not loss.isnan():\n",
    "              running_loss += loss\n",
    "\n",
    "            y_true.extend(labels.cpu().numpy())\n",
    "            y_pred_probs.extend(preds.detach().cpu().numpy())\n",
    "\n",
    "        valid_loss = running_loss/len(test_loader)\n",
    "        if not valid_loss == 0.0:\n",
    "            valid_losses.append(valid_loss.detach().numpy())\n",
    "        else:\n",
    "            valid_losses == \"error\"\n",
    "\n",
    "        y_true = np.array(y_true)\n",
    "        y_pred_probs = np.array(y_pred_probs)\n",
    "        accuracy = calculate_accuracy(y_true, y_pred_probs)\n",
    "\n",
    "        print(f'validation_loss {valid_loss}, validation_accuracy {accuracy}')\n",
    "    return valid_losses, accuracy\n",
    "\n",
    "epochs = 50\n",
    "for epoch in range(epochs):\n",
    "    print('epochs {}/{}'.format(epoch+1,epochs))\n",
    "    train_losses = train(device)\n",
    "    valid_losses, _ = valid(device)\n",
    "    gc.collect()"
   ]
  },
  {
   "cell_type": "code",
   "execution_count": 55,
   "id": "d5de0546-fce4-42f1-8add-ca50a0cbb2fc",
   "metadata": {},
   "outputs": [
    {
     "data": {
      "image/png": "[encoded data removed]",
      "text/plain": [
       "<Figure size 640x480 with 1 Axes>"
      ]
     },
     "metadata": {},
     "output_type": "display_data"
    }
   ],
   "source": [
    "plt.plot(train_losses, label='Train Loss')\n",
    "plt.xlabel('Epoch')\n",
    "plt.ylabel('Loss')\n",
    "plt.legend()\n",
    "plt.show()"
   ]
  },
  {
   "cell_type": "code",
   "execution_count": 56,
   "id": "b406019a-cff9-456d-8b18-590240fd4f55",
   "metadata": {},
   "outputs": [
    {
     "data": {
      "image/png": "[encoded data removed]",
      "text/plain": [
       "<Figure size 640x480 with 1 Axes>"
      ]
     },
     "metadata": {},
     "output_type": "display_data"
    }
   ],
   "source": [
    "plt.plot(valid_losses, label='Valid Loss')\n",
    "plt.xlabel('Epoch')\n",
    "plt.ylabel('Loss')\n",
    "plt.legend()\n",
    "plt.show()"
   ]
  },
  {
   "cell_type": "code",
   "execution_count": 57,
   "id": "07252e08-4236-4f35-9333-43cbc0cad208",
   "metadata": {},
   "outputs": [
    {
     "data": {
      "text/plain": [
       "<matplotlib.legend.Legend at 0x7fb8aa4973d0>"
      ]
     },
     "execution_count": 57,
     "metadata": {},
     "output_type": "execute_result"
    },
    {
     "data": {
      "image/png": "[encoded data removed]",
      "text/plain": [
       "<Figure size 640x480 with 1 Axes>"
      ]
     },
     "metadata": {},
     "output_type": "display_data"
    }
   ],
   "source": [
    "plt.plot(train_losses,label='train_loss')\n",
    "plt.plot(valid_losses,label='valid_loss')\n",
    "plt.title('MSE Loss')\n",
    "plt.ylim(0, 4)\n",
    "plt.legend(bbox_to_anchor=(1.05, 1), loc='upper left', borderaxespad=0.)"
   ]
  },
  {
   "cell_type": "code",
   "execution_count": 58,
   "id": "066ff6dd-9f31-46ac-92a9-553235582b50",
   "metadata": {},
   "outputs": [
    {
     "data": {
      "text/plain": [
       "['1', '2', '3', '4', '5', '6']"
      ]
     },
     "execution_count": 58,
     "metadata": {},
     "output_type": "execute_result"
    }
   ],
   "source": [
    "class_names = [str(x) for x in range(1,7)]\n",
    "class_names"
   ]
  },
  {
   "cell_type": "code",
   "execution_count": 59,
   "id": "d4e8a1c9-1d04-47b3-a689-76c4bd2f3428",
   "metadata": {},
   "outputs": [
    {
     "name": "stdout",
     "output_type": "stream",
     "text": [
      "              precision    recall  f1-score   support\n",
      "\n",
      "           1       0.00      0.00      0.00       317\n",
      "           2       1.00      0.99      0.99      1302\n",
      "           3       1.00      0.42      0.59       185\n",
      "           4       0.00      0.00      0.00       150\n",
      "           5       0.36      0.57      0.44       389\n",
      "           6       0.78      0.97      0.87      1497\n",
      "\n",
      "    accuracy                           0.79      3840\n",
      "   macro avg       0.52      0.49      0.48      3840\n",
      "weighted avg       0.73      0.79      0.75      3840\n",
      "\n",
      " control_accuracy 0.7916666666666666\n"
     ]
    },
    {
     "name": "stderr",
     "output_type": "stream",
     "text": [
      "/home/katya/PycharmProjects/WISDM_LSTM_CNN/venv/lib/python3.10/site-packages/sklearn/metrics/_classification.py:1469: UndefinedMetricWarning: Precision and F-score are ill-defined and being set to 0.0 in labels with no predicted samples. Use `zero_division` parameter to control this behavior.\n",
      "  _warn_prf(average, modifier, msg_start, len(result))\n",
      "/home/katya/PycharmProjects/WISDM_LSTM_CNN/venv/lib/python3.10/site-packages/sklearn/metrics/_classification.py:1469: UndefinedMetricWarning: Precision and F-score are ill-defined and being set to 0.0 in labels with no predicted samples. Use `zero_division` parameter to control this behavior.\n",
      "  _warn_prf(average, modifier, msg_start, len(result))\n",
      "/home/katya/PycharmProjects/WISDM_LSTM_CNN/venv/lib/python3.10/site-packages/sklearn/metrics/_classification.py:1469: UndefinedMetricWarning: Precision and F-score are ill-defined and being set to 0.0 in labels with no predicted samples. Use `zero_division` parameter to control this behavior.\n",
      "  _warn_prf(average, modifier, msg_start, len(result))\n"
     ]
    }
   ],
   "source": [
    "y_true = []\n",
    "y_pred_probs = []\n",
    "model.eval()\n",
    "\n",
    "with torch.no_grad():\n",
    "    for idx, (inputs, labels) in enumerate(control_loader):\n",
    "        inputs = inputs.to(device)\n",
    "        labels = labels.to(device)\n",
    "        #optimizer.zero_grad()\n",
    "        preds = model(inputs.float())\n",
    "        loss = criterion(preds, labels.squeeze().long())\n",
    "        y_true.extend(labels.cpu().numpy())\n",
    "        y_pred_probs.extend(preds.detach().cpu().numpy())\n",
    "\n",
    "    y_true = np.array(y_true)\n",
    "    y_pred_probs = np.array(y_pred_probs)\n",
    "    report = classification_report(y_true, np.argmax(y_pred_probs, axis=1), target_names=class_names)\n",
    "    print(report)\n",
    "    accuracy = calculate_accuracy(y_true, y_pred_probs)\n",
    "\n",
    "    print(f' control_accuracy {accuracy}')"
   ]
  },
  {
   "cell_type": "code",
   "execution_count": 60,
   "id": "8de6c0b8-9a04-4446-acf7-0aad80f0058a",
   "metadata": {},
   "outputs": [
    {
     "name": "stdout",
     "output_type": "stream",
     "text": [
      "              precision    recall  f1-score   support\n",
      "\n",
      "           1       0.00      0.00      0.00      1448\n",
      "           2       0.98      0.98      0.98      4401\n",
      "           3       0.77      0.64      0.70       655\n",
      "           4       0.00      0.00      0.00       673\n",
      "           5       0.40      0.77      0.53      1764\n",
      "           6       0.88      0.97      0.92      5907\n",
      "\n",
      "    accuracy                           0.79     14848\n",
      "   macro avg       0.51      0.56      0.52     14848\n",
      "weighted avg       0.72      0.79      0.75     14848\n",
      "\n",
      " train_accuracy 0.7939789870689655\n"
     ]
    },
    {
     "name": "stderr",
     "output_type": "stream",
     "text": [
      "/home/katya/PycharmProjects/WISDM_LSTM_CNN/venv/lib/python3.10/site-packages/sklearn/metrics/_classification.py:1469: UndefinedMetricWarning: Precision and F-score are ill-defined and being set to 0.0 in labels with no predicted samples. Use `zero_division` parameter to control this behavior.\n",
      "  _warn_prf(average, modifier, msg_start, len(result))\n",
      "/home/katya/PycharmProjects/WISDM_LSTM_CNN/venv/lib/python3.10/site-packages/sklearn/metrics/_classification.py:1469: UndefinedMetricWarning: Precision and F-score are ill-defined and being set to 0.0 in labels with no predicted samples. Use `zero_division` parameter to control this behavior.\n",
      "  _warn_prf(average, modifier, msg_start, len(result))\n",
      "/home/katya/PycharmProjects/WISDM_LSTM_CNN/venv/lib/python3.10/site-packages/sklearn/metrics/_classification.py:1469: UndefinedMetricWarning: Precision and F-score are ill-defined and being set to 0.0 in labels with no predicted samples. Use `zero_division` parameter to control this behavior.\n",
      "  _warn_prf(average, modifier, msg_start, len(result))\n"
     ]
    }
   ],
   "source": [
    "y_true = []\n",
    "y_pred_probs = []\n",
    "model.eval()\n",
    "\n",
    "with torch.no_grad():\n",
    "    for idx, (inputs, labels) in enumerate(train_loader):\n",
    "        inputs = inputs.to(device)\n",
    "        labels = labels.to(device)\n",
    "        #optimizer.zero_grad()\n",
    "        preds = model(inputs.float())\n",
    "        loss = criterion(preds, labels.squeeze().long())\n",
    "        y_true.extend(labels.cpu().numpy())\n",
    "        y_pred_probs.extend(preds.detach().cpu().numpy())\n",
    "\n",
    "    y_true = np.array(y_true)\n",
    "    y_pred_probs = np.array(y_pred_probs)\n",
    "    report = classification_report(y_true, np.argmax(y_pred_probs, axis=1), target_names=class_names)\n",
    "    print(report)\n",
    "    accuracy = calculate_accuracy(y_true, y_pred_probs)\n",
    "\n",
    "    print(f' train_accuracy {accuracy}')"
   ]
  },
  {
   "cell_type": "code",
   "execution_count": 61,
   "id": "d1328342-9da1-4011-a08f-ae934e86767d",
   "metadata": {},
   "outputs": [
    {
     "name": "stdout",
     "output_type": "stream",
     "text": [
      "              precision    recall  f1-score   support\n",
      "\n",
      "           1       0.00      0.00      0.00       187\n",
      "           2       0.94      0.85      0.89       890\n",
      "           3       0.00      0.00      0.00       314\n",
      "           4       0.00      0.00      0.00       123\n",
      "           5       0.20      0.65      0.30       224\n",
      "           6       0.75      0.92      0.82       822\n",
      "\n",
      "    accuracy                           0.65      2560\n",
      "   macro avg       0.31      0.40      0.34      2560\n",
      "weighted avg       0.58      0.65      0.60      2560\n",
      "\n",
      " validation_accuracy 0.647265625\n"
     ]
    },
    {
     "name": "stderr",
     "output_type": "stream",
     "text": [
      "/home/katya/PycharmProjects/WISDM_LSTM_CNN/venv/lib/python3.10/site-packages/sklearn/metrics/_classification.py:1469: UndefinedMetricWarning: Precision and F-score are ill-defined and being set to 0.0 in labels with no predicted samples. Use `zero_division` parameter to control this behavior.\n",
      "  _warn_prf(average, modifier, msg_start, len(result))\n",
      "/home/katya/PycharmProjects/WISDM_LSTM_CNN/venv/lib/python3.10/site-packages/sklearn/metrics/_classification.py:1469: UndefinedMetricWarning: Precision and F-score are ill-defined and being set to 0.0 in labels with no predicted samples. Use `zero_division` parameter to control this behavior.\n",
      "  _warn_prf(average, modifier, msg_start, len(result))\n",
      "/home/katya/PycharmProjects/WISDM_LSTM_CNN/venv/lib/python3.10/site-packages/sklearn/metrics/_classification.py:1469: UndefinedMetricWarning: Precision and F-score are ill-defined and being set to 0.0 in labels with no predicted samples. Use `zero_division` parameter to control this behavior.\n",
      "  _warn_prf(average, modifier, msg_start, len(result))\n"
     ]
    }
   ],
   "source": [
    "y_true = []\n",
    "y_pred_probs = []\n",
    "model.eval()\n",
    "\n",
    "with torch.no_grad():\n",
    "    for idx, (inputs, labels) in enumerate(test_loader):\n",
    "        inputs = inputs.to(device)\n",
    "        labels = labels.to(device)\n",
    "        #optimizer.zero_grad()\n",
    "        preds = model(inputs.float())\n",
    "        loss = criterion(preds, labels.squeeze().long())\n",
    "        y_true.extend(labels.cpu().numpy())\n",
    "        y_pred_probs.extend(preds.detach().cpu().numpy())\n",
    "\n",
    "    y_true = np.array(y_true)\n",
    "    y_pred_probs = np.array(y_pred_probs)\n",
    "    report = classification_report(y_true, np.argmax(y_pred_probs, axis=1), target_names=class_names)\n",
    "    print(report)\n",
    "    accuracy = calculate_accuracy(y_true, y_pred_probs)\n",
    "\n",
    "    print(f' validation_accuracy {accuracy}')"
   ]
  },
  {
   "cell_type": "code",
   "execution_count": null,
   "id": "552fe582-7f08-45d0-aabd-e661ae7f38fa",
   "metadata": {},
   "outputs": [],
   "source": []
  }
 ],
 "metadata": {
  "kernelspec": {
   "display_name": "Python 3 (ipykernel)",
   "language": "python",
   "name": "python3"
  },
  "language_info": {
   "codemirror_mode": {
    "name": "ipython",
    "version": 3
   },
   "file_extension": ".py",
   "mimetype": "text/x-python",
   "name": "python",
   "nbconvert_exporter": "python",
   "pygments_lexer": "ipython3",
   "version": "3.10.12"
  }
 },
 "nbformat": 4,
 "nbformat_minor": 5
}
